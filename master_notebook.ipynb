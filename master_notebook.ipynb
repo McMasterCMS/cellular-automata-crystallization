{
 "cells": [
  {
   "cell_type": "code",
   "execution_count": 20,
   "source": [
    "# import some helpful tools\r\n",
    "import tools\r\n",
    "import random\r\n",
    "import copy"
   ],
   "outputs": [],
   "metadata": {}
  },
  {
   "cell_type": "code",
   "execution_count": 21,
   "source": [
    "# Conways game of life?"
   ],
   "outputs": [],
   "metadata": {}
  },
  {
   "cell_type": "code",
   "execution_count": 22,
   "source": [
    "# 1D Desription of microstructure evolution\r\n",
    "# Show video?\r\n",
    "# Discretize space into a series of cell\r\n",
    "# Assign a state to each cell\r\n",
    "# At every time step local a neeighbourhood is defined to each cell\r\n",
    "# A state change rule is applied as a function of the neightbouring cells\r\n",
    "# Simulation proceeds in a series of discrete time steps and computing the new states"
   ],
   "outputs": [],
   "metadata": {}
  },
  {
   "cell_type": "code",
   "execution_count": 23,
   "source": [
    "liq = 0\r\n",
    "solid = 1"
   ],
   "outputs": [],
   "metadata": {}
  },
  {
   "cell_type": "code",
   "execution_count": 24,
   "source": [
    "size = 100\r\n",
    "n_steps = 100\r\n",
    "state_history = [] * n_steps\r\n",
    "state = [liq] * size\r\n",
    "temp_state = [liq] * size"
   ],
   "outputs": [],
   "metadata": {}
  },
  {
   "cell_type": "code",
   "execution_count": 25,
   "source": [
    "state[71] = solid\r\n",
    "tools.display_state(state)"
   ],
   "outputs": [
    {
     "output_type": "display_data",
     "data": {
      "text/plain": [
       "<Figure size 720x720 with 1 Axes>"
      ],
      "image/png": "[encoded data removed]"
     },
     "metadata": {
      "needs_background": "light"
     }
    }
   ],
   "metadata": {}
  },
  {
   "cell_type": "code",
   "execution_count": 26,
   "source": [
    "state_history.append(state)\r\n",
    "for n in range(n_steps):\r\n",
    "    for cell in range(len(state)):\r\n",
    "        if sum(state[cell-1:cell+2]) > 0:\r\n",
    "            temp_state[cell] = solid\r\n",
    "    state = copy.deepcopy(temp_state)\r\n",
    "    state_history.append(state)\r\n"
   ],
   "outputs": [],
   "metadata": {}
  },
  {
   "cell_type": "code",
   "execution_count": 27,
   "source": [
    "tools.display_growth(state_history)"
   ],
   "outputs": [
    {
     "output_type": "display_data",
     "data": {
      "text/plain": [
       "<Figure size 576x576 with 1 Axes>"
      ],
      "image/png": "[encoded data removed]"
     },
     "metadata": {
      "needs_background": "light"
     }
    }
   ],
   "metadata": {}
  },
  {
   "cell_type": "code",
   "execution_count": 28,
   "source": [
    "import cv2\r\n",
    "import numpy as np\r\n",
    "import random\r\n",
    "from math import exp\r\n",
    "\r\n",
    "T = 2\r\n",
    "l = 1\r\n",
    "m0 = 1\r\n",
    "Q = 1\r\n",
    "k = 1\r\n",
    "\r\n",
    "p_local = 0.2\r\n",
    "p_max = 1\r\n",
    "P = p_local / p_max\r\n",
    "\r\n",
    "delta_t = round(T*l / (m0*p_max*exp(-Q/(k*T))))\r\n",
    "\r\n",
    "nsteps = 250\r\n",
    "state = np.zeros((nsteps, 1000))\r\n",
    "temp = np.zeros((nsteps, 1000))\r\n",
    "\r\n",
    "state[0, :] = np.random.random_sample(state.shape[1]) < 0.02\r\n",
    "temp = state\r\n",
    "\r\n",
    "for i in range(1, nsteps):\r\n",
    "    for j in range(state.shape[1]):\r\n",
    "        if state[i-1, j] == 1:\r\n",
    "            temp[i, j] = 1\r\n",
    "        elif random.uniform(0,1) < P and np.count_nonzero(state[i-1, j-1:j+2]):\r\n",
    "            if i+delta_t >= temp.shape[0]:\r\n",
    "                temp[temp.shape[0]-1, j] = 1\r\n",
    "            else:\r\n",
    "                temp[i+delta_t, j] = 1\r\n",
    "        else:\r\n",
    "            pass\r\n",
    "    state[i] = temp[i]\r\n",
    "\r\n",
    "    cv2.imshow(\"\", state)\r\n",
    "    cv2.waitKey(100)\r\n",
    "cv2.destroyAllWindows()"
   ],
   "outputs": [],
   "metadata": {}
  },
  {
   "cell_type": "code",
   "execution_count": 30,
   "source": [
    "\r\n",
    "import cv2\r\n",
    "import numpy as np\r\n",
    "import copy\r\n",
    "\r\n",
    "nc_x = nc_y = 100\r\n",
    "nc = nc_x * nc_y\r\n",
    "\r\n",
    "unrec = 0\r\n",
    "rec = 1\r\n",
    "\r\n",
    "# neighborhood = \"von Neumann\"\r\n",
    "neighborhood = \"Moore\"\r\n",
    "\r\n",
    "state = np.random.random_sample((nc_x,nc_y)) < 0.001\r\n",
    "state = state.astype('uint8')\r\n",
    "\r\n",
    "\r\n",
    "while np.all(state) == False:\r\n",
    "\r\n",
    "    temp = copy.deepcopy(state)\r\n",
    "\r\n",
    "    cv2.imshow(\"\", state*255)\r\n",
    "    cv2.waitKey(100)\r\n",
    "\r\n",
    "    for x in range(state.shape[1]):\r\n",
    "        for y in range(state.shape[0]):\r\n",
    "\r\n",
    "            if state[y,x] == rec:\r\n",
    "                if neighborhood == \"Moore\":\r\n",
    "                    temp[y-1:y+2, x-1:x+2] = rec\r\n",
    "\r\n",
    "                if neighborhood == \"von Neumann\":\r\n",
    "                    temp[y-1:y+2, x] = rec\r\n",
    "                    temp[y, x-1:x+2] = rec\r\n",
    "\r\n",
    "\r\n",
    "    state = copy.deepcopy(temp)\r\n",
    "\r\n",
    "cv2.destroyAllWindows()\r\n"
   ],
   "outputs": [],
   "metadata": {}
  }
 ],
 "metadata": {
  "orig_nbformat": 4,
  "language_info": {
   "name": "python",
   "version": "3.7.4",
   "mimetype": "text/x-python",
   "codemirror_mode": {
    "name": "ipython",
    "version": 3
   },
   "pygments_lexer": "ipython3",
   "nbconvert_exporter": "python",
   "file_extension": ".py"
  },
  "kernelspec": {
   "name": "python3",
   "display_name": "Python 3.7.4 64-bit"
  },
  "interpreter": {
   "hash": "7ddd3495a700a0c68a475eec98ab5c0d8e4fb234bfd76fa61a8e3376ef4ee445"
  }
 },
 "nbformat": 4,
 "nbformat_minor": 2
}