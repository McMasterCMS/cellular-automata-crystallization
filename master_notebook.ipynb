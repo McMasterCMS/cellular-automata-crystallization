{
 "cells": [
  {
   "cell_type": "code",
   "execution_count": 1,
   "source": [
    "# import some helpful tools\r\n",
    "import tools\r\n",
    "import random\r\n",
    "import copy"
   ],
   "outputs": [],
   "metadata": {}
  },
  {
   "cell_type": "code",
   "execution_count": 2,
   "source": [
    "# 1D Desription of microstructure evolution\r\n",
    "# Show video?\r\n",
    "# Discretize space into a series of cell\r\n",
    "# Assign a state to each cell\r\n",
    "# At every time step local a neeighbourhood is defined to each cell\r\n",
    "# A state change rule is applied as a function of the neightbouring cells\r\n",
    "# Simulation proceeds in a series of discrete time steps and computing the new states"
   ],
   "outputs": [],
   "metadata": {}
  },
  {
   "cell_type": "code",
   "execution_count": 3,
   "source": [
    "liq = 0\r\n",
    "solid = 1"
   ],
   "outputs": [],
   "metadata": {}
  },
  {
   "cell_type": "code",
   "execution_count": 4,
   "source": [
    "size = 100\r\n",
    "n_steps = 100\r\n",
    "state = [liq] * size\r\n",
    "\r\n",
    "state[50] = solid\r\n",
    "tools.display_state(state)"
   ],
   "outputs": [
    {
     "output_type": "display_data",
     "data": {
      "text/plain": [
       "<Figure size 720x720 with 1 Axes>"
      ],
      "image/png": "[encoded data removed]"
     },
     "metadata": {
      "needs_background": "light"
     }
    }
   ],
   "metadata": {}
  },
  {
   "cell_type": "code",
   "execution_count": 5,
   "source": [
    "state_history = []\r\n",
    "state_history.append(state)\r\n",
    "for n in range(n_steps):\r\n",
    "    for cell in range(len(state)):\r\n",
    "        if sum(state[cell-1:cell+2]) > 0:\r\n",
    "            temp_state[cell] = solid\r\n",
    "    state = copy.deepcopy(temp_state)\r\n",
    "    state_history.append(state)\r\n"
   ],
   "outputs": [
    {
     "output_type": "error",
     "ename": "NameError",
     "evalue": "name 'state_history' is not defined",
     "traceback": [
      "\u001b[1;31m---------------------------------------------------------------------------\u001b[0m",
      "\u001b[1;31mNameError\u001b[0m                                 Traceback (most recent call last)",
      "\u001b[1;32m<ipython-input-5-2cc1536b5d26>\u001b[0m in \u001b[0;36m<module>\u001b[1;34m\u001b[0m\n\u001b[1;32m----> 1\u001b[1;33m \u001b[0mstate_history\u001b[0m\u001b[1;33m.\u001b[0m\u001b[0mappend\u001b[0m\u001b[1;33m(\u001b[0m\u001b[0mstate\u001b[0m\u001b[1;33m)\u001b[0m\u001b[1;33m\u001b[0m\u001b[1;33m\u001b[0m\u001b[0m\n\u001b[0m\u001b[0;32m      2\u001b[0m \u001b[1;32mfor\u001b[0m \u001b[0mn\u001b[0m \u001b[1;32min\u001b[0m \u001b[0mrange\u001b[0m\u001b[1;33m(\u001b[0m\u001b[0mn_steps\u001b[0m\u001b[1;33m)\u001b[0m\u001b[1;33m:\u001b[0m\u001b[1;33m\u001b[0m\u001b[1;33m\u001b[0m\u001b[0m\n\u001b[0;32m      3\u001b[0m     \u001b[1;32mfor\u001b[0m \u001b[0mcell\u001b[0m \u001b[1;32min\u001b[0m \u001b[0mrange\u001b[0m\u001b[1;33m(\u001b[0m\u001b[0mlen\u001b[0m\u001b[1;33m(\u001b[0m\u001b[0mstate\u001b[0m\u001b[1;33m)\u001b[0m\u001b[1;33m)\u001b[0m\u001b[1;33m:\u001b[0m\u001b[1;33m\u001b[0m\u001b[1;33m\u001b[0m\u001b[0m\n\u001b[0;32m      4\u001b[0m         \u001b[1;32mif\u001b[0m \u001b[0msum\u001b[0m\u001b[1;33m(\u001b[0m\u001b[0mstate\u001b[0m\u001b[1;33m[\u001b[0m\u001b[0mcell\u001b[0m\u001b[1;33m-\u001b[0m\u001b[1;36m1\u001b[0m\u001b[1;33m:\u001b[0m\u001b[0mcell\u001b[0m\u001b[1;33m+\u001b[0m\u001b[1;36m2\u001b[0m\u001b[1;33m]\u001b[0m\u001b[1;33m)\u001b[0m \u001b[1;33m>\u001b[0m \u001b[1;36m0\u001b[0m\u001b[1;33m:\u001b[0m\u001b[1;33m\u001b[0m\u001b[1;33m\u001b[0m\u001b[0m\n\u001b[0;32m      5\u001b[0m             \u001b[0mtemp_state\u001b[0m\u001b[1;33m[\u001b[0m\u001b[0mcell\u001b[0m\u001b[1;33m]\u001b[0m \u001b[1;33m=\u001b[0m \u001b[0msolid\u001b[0m\u001b[1;33m\u001b[0m\u001b[1;33m\u001b[0m\u001b[0m\n",
      "\u001b[1;31mNameError\u001b[0m: name 'state_history' is not defined"
     ]
    }
   ],
   "metadata": {}
  },
  {
   "cell_type": "code",
   "execution_count": null,
   "source": [
    "def simulate_growth(size, n_steps):\r\n",
    "    state = [liq] * size\r\n",
    "    state[51] = solid\r\n",
    "    temp_state = copy.deepcopy(state)\r\n",
    "    state_history = [state]\r\n",
    "    while state.count(liq) > 0:\r\n",
    "        for cell in range(size):\r\n",
    "            if cell == 0:\r\n",
    "                if state[cell+1] == solid:\r\n",
    "                    temp_state[cell] = solid\r\n",
    "            elif cell == size-1:\r\n",
    "                if state[cell-1] == solid:\r\n",
    "                    temp_state[cell] = solid\r\n",
    "            elif state[cell-1] == solid or state[cell+1] == solid:\r\n",
    "                temp_state[cell] = solid\r\n",
    "        state = copy.deepcopy(temp_state)\r\n",
    "        state_history.append(state)\r\n",
    "    return state_history"
   ],
   "outputs": [],
   "metadata": {}
  },
  {
   "cell_type": "code",
   "execution_count": 6,
   "source": [
    "state_history = simulate_growth(100, 100)\r\n",
    "tools.display_growth(state_history, show_fraction=True)"
   ],
   "outputs": [
    {
     "output_type": "error",
     "ename": "NameError",
     "evalue": "name 'simulate_growth' is not defined",
     "traceback": [
      "\u001b[1;31m---------------------------------------------------------------------------\u001b[0m",
      "\u001b[1;31mNameError\u001b[0m                                 Traceback (most recent call last)",
      "\u001b[1;32m<ipython-input-6-f31d514ab46b>\u001b[0m in \u001b[0;36m<module>\u001b[1;34m\u001b[0m\n\u001b[1;32m----> 1\u001b[1;33m \u001b[0mstate_history\u001b[0m \u001b[1;33m=\u001b[0m \u001b[0msimulate_growth\u001b[0m\u001b[1;33m(\u001b[0m\u001b[1;36m100\u001b[0m\u001b[1;33m,\u001b[0m \u001b[1;36m100\u001b[0m\u001b[1;33m)\u001b[0m\u001b[1;33m\u001b[0m\u001b[1;33m\u001b[0m\u001b[0m\n\u001b[0m\u001b[0;32m      2\u001b[0m \u001b[0mtools\u001b[0m\u001b[1;33m.\u001b[0m\u001b[0mdisplay_growth\u001b[0m\u001b[1;33m(\u001b[0m\u001b[0mstate_history\u001b[0m\u001b[1;33m,\u001b[0m \u001b[0mshow_fraction\u001b[0m\u001b[1;33m=\u001b[0m\u001b[1;32mTrue\u001b[0m\u001b[1;33m)\u001b[0m\u001b[1;33m\u001b[0m\u001b[1;33m\u001b[0m\u001b[0m\n",
      "\u001b[1;31mNameError\u001b[0m: name 'simulate_growth' is not defined"
     ]
    }
   ],
   "metadata": {}
  },
  {
   "cell_type": "code",
   "execution_count": null,
   "source": [
    "import cv2\r\n",
    "import numpy as np\r\n",
    "import random\r\n",
    "from math import exp\r\n",
    "\r\n",
    "T = 2\r\n",
    "l = 1\r\n",
    "m0 = 1\r\n",
    "Q = 1\r\n",
    "k = 1\r\n",
    "\r\n",
    "p_local = 0.2\r\n",
    "p_max = 1\r\n",
    "P = p_local / p_max\r\n",
    "\r\n",
    "delta_t = round(T*l / (m0*p_max*exp(-Q/(k*T))))\r\n",
    "\r\n",
    "nsteps = 250\r\n",
    "state = np.zeros((nsteps, 1000))\r\n",
    "temp = np.zeros((nsteps, 1000))\r\n",
    "\r\n",
    "state[0, :] = np.random.random_sample(state.shape[1]) < 0.02\r\n",
    "temp = state\r\n",
    "\r\n",
    "for i in range(1, nsteps):\r\n",
    "    for j in range(state.shape[1]):\r\n",
    "        if state[i-1, j] == 1:\r\n",
    "            temp[i, j] = 1\r\n",
    "        elif random.uniform(0,1) < P and np.count_nonzero(state[i-1, j-1:j+2]):\r\n",
    "            if i+delta_t >= temp.shape[0]:\r\n",
    "                temp[temp.shape[0]-1, j] = 1\r\n",
    "            else:\r\n",
    "                temp[i+delta_t, j] = 1\r\n",
    "        else:\r\n",
    "            pass\r\n",
    "    state[i] = temp[i]\r\n",
    "\r\n",
    "    cv2.imshow(\"\", state)\r\n",
    "    cv2.waitKey(100)\r\n",
    "cv2.destroyAllWindows()"
   ],
   "outputs": [],
   "metadata": {}
  },
  {
   "cell_type": "code",
   "execution_count": null,
   "source": [
    "\r\n",
    "import cv2\r\n",
    "import numpy as np\r\n",
    "import copy\r\n",
    "\r\n",
    "nc_x = nc_y = 100\r\n",
    "nc = nc_x * nc_y\r\n",
    "\r\n",
    "unrec = 0\r\n",
    "rec = 1\r\n",
    "\r\n",
    "# neighborhood = \"von Neumann\"\r\n",
    "neighborhood = \"Moore\"\r\n",
    "\r\n",
    "state = np.random.random_sample((nc_x,nc_y)) < 0.001\r\n",
    "state = state.astype('uint8')\r\n",
    "\r\n",
    "\r\n",
    "while np.all(state) == False:\r\n",
    "\r\n",
    "    temp = copy.deepcopy(state)\r\n",
    "\r\n",
    "    cv2.imshow(\"\", state*255)\r\n",
    "    cv2.waitKey(100)\r\n",
    "\r\n",
    "    for x in range(state.shape[1]):\r\n",
    "        for y in range(state.shape[0]):\r\n",
    "\r\n",
    "            if state[y,x] == rec:\r\n",
    "                if neighborhood == \"Moore\":\r\n",
    "                    temp[y-1:y+2, x-1:x+2] = rec\r\n",
    "\r\n",
    "                if neighborhood == \"von Neumann\":\r\n",
    "                    temp[y-1:y+2, x] = rec\r\n",
    "                    temp[y, x-1:x+2] = rec\r\n",
    "\r\n",
    "\r\n",
    "    state = copy.deepcopy(temp)\r\n",
    "\r\n",
    "cv2.destroyAllWindows()\r\n"
   ],
   "outputs": [],
   "metadata": {}
  }
 ],
 "metadata": {
  "orig_nbformat": 4,
  "language_info": {
   "name": "python",
   "version": "3.7.4",
   "mimetype": "text/x-python",
   "codemirror_mode": {
    "name": "ipython",
    "version": 3
   },
   "pygments_lexer": "ipython3",
   "nbconvert_exporter": "python",
   "file_extension": ".py"
  },
  "kernelspec": {
   "name": "python3",
   "display_name": "Python 3.7.4 64-bit"
  },
  "interpreter": {
   "hash": "7ddd3495a700a0c68a475eec98ab5c0d8e4fb234bfd76fa61a8e3376ef4ee445"
  }
 },
 "nbformat": 4,
 "nbformat_minor": 2
}