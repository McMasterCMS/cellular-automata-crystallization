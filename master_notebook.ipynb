{
 "cells": [
  {
   "cell_type": "code",
   "execution_count": 1,
   "metadata": {},
   "outputs": [],
   "source": [
    "import tools\n",
    "import copy\n",
    "import numpy\n",
    "from IPython.display import Image # For GIFs"
   ]
  },
  {
   "cell_type": "code",
   "execution_count": 2,
   "metadata": {},
   "outputs": [],
   "source": [
    "liq = 0\n",
    "sol = 1"
   ]
  },
  {
   "cell_type": "code",
   "execution_count": 3,
   "metadata": {},
   "outputs": [],
   "source": [
    "size = 100\n",
    "n_steps = 100\n",
    "state = [liq] * size\n",
    "state[50] = sol"
   ]
  },
  {
   "cell_type": "code",
   "execution_count": 4,
   "metadata": {},
   "outputs": [
    {
     "data": {
      "image/png": "[encoded data removed]",
      "text/plain": [
       "<Figure size 1440x1440 with 1 Axes>"
      ]
     },
     "metadata": {},
     "output_type": "display_data"
    }
   ],
   "source": [
    "tools.display_state(state)"
   ]
  },
  {
   "cell_type": "code",
   "execution_count": 5,
   "metadata": {},
   "outputs": [],
   "source": [
    "prev_states = []\n",
    "temp_state = copy.deepcopy(state)\n",
    "prev_states.append(state)\n",
    "for dt in range(size):\n",
    "    for cell in range(size):\n",
    "        if sum(state[cell-1:cell+2]) > 0:\n",
    "            temp_state[cell] = sol\n",
    "    state = copy.deepcopy(temp_state)\n",
    "    prev_states.append(state)"
   ]
  },
  {
   "cell_type": "code",
   "execution_count": 6,
   "metadata": {},
   "outputs": [],
   "source": [
    "def simulate_growth(size):\n",
    "    state = [liq] * size\n",
    "    state = [liq] * size\n",
    "    state[size//2] = sol\n",
    "    state[size//10+1] = sol\n",
    "    temp_state = copy.deepcopy(state)\n",
    "    prev_states = [state]\n",
    "    for dt in range(size):\n",
    "        for cell in range(size):\n",
    "            if cell == 0:\n",
    "                if state[cell+1] == sol:\n",
    "                    temp_state[cell] = sol\n",
    "            elif cell == size-1:\n",
    "                if state[cell-1] == sol:\n",
    "                    temp_state[cell] = sol\n",
    "            elif state[cell-1] == sol or state[cell+1] == sol:\n",
    "                temp_state[cell] = sol\n",
    "        state = copy.deepcopy(temp_state)\n",
    "        prev_states.append(state)\n",
    "    return prev_states"
   ]
  },
  {
   "cell_type": "code",
   "execution_count": 7,
   "metadata": {},
   "outputs": [],
   "source": [
    "prev_states = simulate_growth(100)\n",
    "# tools.display_growth(prev_states, show_fraction=True)"
   ]
  },
  {
   "cell_type": "code",
   "execution_count": 8,
   "metadata": {},
   "outputs": [
    {
     "name": "stderr",
     "output_type": "stream",
     "text": [
      "MovieWriter ffmpeg unavailable; using Pillow instead.\n"
     ]
    }
   ],
   "source": [
    "tools.animate_growth(prev_states)\n",
    "# Image(url='test_anim.gif')"
   ]
  },
  {
   "cell_type": "code",
   "execution_count": 9,
   "metadata": {},
   "outputs": [],
   "source": [
    "def simulate_growth_2D(size):\n",
    "\n",
    "    state = numpy.zeros((size, size))\n",
    "    state = tools.set_nucleation_sites(state, 100)\n",
    "    # Copy state to keep track of history\n",
    "    temp_state = copy.deepcopy(state)\n",
    "    prev_states = []\n",
    "    # Loop over each cell\n",
    "    while numpy.sum(state) < size*size:\n",
    "        for x in range(size):\n",
    "            for y in range(size):\n",
    "                if state[y,x] == sol:\n",
    "                        temp_state[y-1:y+2, x-1:x+2] = sol\n",
    "\n",
    "        state = copy.deepcopy(temp_state)\n",
    "        prev_states.append(copy.deepcopy(temp_state))\n",
    "    return prev_states"
   ]
  },
  {
   "cell_type": "code",
   "execution_count": 10,
   "metadata": {},
   "outputs": [],
   "source": [
    "prev_states = simulate_growth_2D(100)"
   ]
  },
  {
   "cell_type": "code",
   "execution_count": 11,
   "metadata": {},
   "outputs": [
    {
     "name": "stderr",
     "output_type": "stream",
     "text": [
      "MovieWriter ffmpeg unavailable; using Pillow instead.\n"
     ]
    },
    {
     "name": "stdout",
     "output_type": "stream",
     "text": [
      "17\n"
     ]
    },
    {
     "ename": "IndexError",
     "evalue": "list index out of range",
     "output_type": "error",
     "traceback": [
      "\u001b[1;31m---------------------------------------------------------------------------\u001b[0m",
      "\u001b[1;31mAttributeError\u001b[0m                            Traceback (most recent call last)",
      "File \u001b[1;32mc:\\Users\\jerem\\AppData\\Local\\Programs\\Python\\Python310\\lib\\site-packages\\matplotlib\\animation.py:236\u001b[0m, in \u001b[0;36mAbstractMovieWriter.saving\u001b[1;34m(self, fig, outfile, dpi, *args, **kwargs)\u001b[0m\n\u001b[0;32m    <a href='file:///c%3A/Users/jerem/AppData/Local/Programs/Python/Python310/lib/site-packages/matplotlib/animation.py?line=234'>235</a>\u001b[0m \u001b[39mtry\u001b[39;00m:\n\u001b[1;32m--> <a href='file:///c%3A/Users/jerem/AppData/Local/Programs/Python/Python310/lib/site-packages/matplotlib/animation.py?line=235'>236</a>\u001b[0m     \u001b[39myield\u001b[39;00m \u001b[39mself\u001b[39m\n\u001b[0;32m    <a href='file:///c%3A/Users/jerem/AppData/Local/Programs/Python/Python310/lib/site-packages/matplotlib/animation.py?line=236'>237</a>\u001b[0m \u001b[39mfinally\u001b[39;00m:\n",
      "File \u001b[1;32mc:\\Users\\jerem\\AppData\\Local\\Programs\\Python\\Python310\\lib\\site-packages\\matplotlib\\animation.py:1078\u001b[0m, in \u001b[0;36mAnimation.save\u001b[1;34m(self, filename, writer, fps, dpi, codec, bitrate, extra_args, metadata, extra_anim, savefig_kwargs, progress_callback)\u001b[0m\n\u001b[0;32m   <a href='file:///c%3A/Users/jerem/AppData/Local/Programs/Python/Python310/lib/site-packages/matplotlib/animation.py?line=1076'>1077</a>\u001b[0m \u001b[39mfor\u001b[39;00m anim \u001b[39min\u001b[39;00m all_anim:\n\u001b[1;32m-> <a href='file:///c%3A/Users/jerem/AppData/Local/Programs/Python/Python310/lib/site-packages/matplotlib/animation.py?line=1077'>1078</a>\u001b[0m     anim\u001b[39m.\u001b[39;49m_init_draw()  \u001b[39m# Clear the initial frame\u001b[39;00m\n\u001b[0;32m   <a href='file:///c%3A/Users/jerem/AppData/Local/Programs/Python/Python310/lib/site-packages/matplotlib/animation.py?line=1078'>1079</a>\u001b[0m frame_number \u001b[39m=\u001b[39m \u001b[39m0\u001b[39m\n",
      "File \u001b[1;32mc:\\Users\\jerem\\AppData\\Local\\Programs\\Python\\Python310\\lib\\site-packages\\matplotlib\\animation.py:1698\u001b[0m, in \u001b[0;36mFuncAnimation._init_draw\u001b[1;34m(self)\u001b[0m\n\u001b[0;32m   <a href='file:///c%3A/Users/jerem/AppData/Local/Programs/Python/Python310/lib/site-packages/matplotlib/animation.py?line=1696'>1697</a>\u001b[0m         \u001b[39mreturn\u001b[39;00m\n\u001b[1;32m-> <a href='file:///c%3A/Users/jerem/AppData/Local/Programs/Python/Python310/lib/site-packages/matplotlib/animation.py?line=1697'>1698</a>\u001b[0m     \u001b[39mself\u001b[39;49m\u001b[39m.\u001b[39;49m_draw_frame(frame_data)\n\u001b[0;32m   <a href='file:///c%3A/Users/jerem/AppData/Local/Programs/Python/Python310/lib/site-packages/matplotlib/animation.py?line=1698'>1699</a>\u001b[0m \u001b[39melse\u001b[39;00m:\n",
      "File \u001b[1;32mc:\\Users\\jerem\\AppData\\Local\\Programs\\Python\\Python310\\lib\\site-packages\\matplotlib\\animation.py:1720\u001b[0m, in \u001b[0;36mFuncAnimation._draw_frame\u001b[1;34m(self, framedata)\u001b[0m\n\u001b[0;32m   <a href='file:///c%3A/Users/jerem/AppData/Local/Programs/Python/Python310/lib/site-packages/matplotlib/animation.py?line=1717'>1718</a>\u001b[0m \u001b[39m# Call the func with framedata and args. If blitting is desired,\u001b[39;00m\n\u001b[0;32m   <a href='file:///c%3A/Users/jerem/AppData/Local/Programs/Python/Python310/lib/site-packages/matplotlib/animation.py?line=1718'>1719</a>\u001b[0m \u001b[39m# func needs to return a sequence of any artists that were modified.\u001b[39;00m\n\u001b[1;32m-> <a href='file:///c%3A/Users/jerem/AppData/Local/Programs/Python/Python310/lib/site-packages/matplotlib/animation.py?line=1719'>1720</a>\u001b[0m \u001b[39mself\u001b[39m\u001b[39m.\u001b[39m_drawn_artists \u001b[39m=\u001b[39m \u001b[39mself\u001b[39;49m\u001b[39m.\u001b[39;49m_func(framedata, \u001b[39m*\u001b[39;49m\u001b[39mself\u001b[39;49m\u001b[39m.\u001b[39;49m_args)\n\u001b[0;32m   <a href='file:///c%3A/Users/jerem/AppData/Local/Programs/Python/Python310/lib/site-packages/matplotlib/animation.py?line=1721'>1722</a>\u001b[0m \u001b[39mif\u001b[39;00m \u001b[39mself\u001b[39m\u001b[39m.\u001b[39m_blit:\n",
      "File \u001b[1;32mc:\\Users\\jerem\\OneDrive\\Documents\\GitHub\\cellular-automata-grain-growth\\tools.py:124\u001b[0m, in \u001b[0;36manimate_growth_2D.<locals>.draw_frame\u001b[1;34m(frame_num)\u001b[0m\n\u001b[0;32m    <a href='file:///c%3A/Users/jerem/OneDrive/Documents/GitHub/cellular-automata-grain-growth/tools.py?line=122'>123</a>\u001b[0m img_overall\u001b[39m.\u001b[39mset_array(np\u001b[39m.\u001b[39msum(prev_states[:frame_num], axis\u001b[39m=\u001b[39m\u001b[39m0\u001b[39m))\n\u001b[1;32m--> <a href='file:///c%3A/Users/jerem/OneDrive/Documents/GitHub/cellular-automata-grain-growth/tools.py?line=123'>124</a>\u001b[0m line_phase_frac\u001b[39m.\u001b[39;49mset_data(\u001b[39mlist\u001b[39m(\u001b[39mrange\u001b[39m(frame_num)), state_solid_fraction[:frame_num\u001b[39m-\u001b[39m\u001b[39m5\u001b[39m])\n",
      "\u001b[1;31mAttributeError\u001b[0m: 'list' object has no attribute 'set_data'",
      "\nDuring handling of the above exception, another exception occurred:\n",
      "\u001b[1;31mIndexError\u001b[0m                                Traceback (most recent call last)",
      "\u001b[1;32mc:\\Users\\jerem\\OneDrive\\Documents\\GitHub\\cellular-automata-grain-growth\\master_notebook.ipynb Cell 11'\u001b[0m in \u001b[0;36m<module>\u001b[1;34m\u001b[0m\n\u001b[1;32m----> <a href='vscode-notebook-cell:/c%3A/Users/jerem/OneDrive/Documents/GitHub/cellular-automata-grain-growth/master_notebook.ipynb#ch0000010?line=0'>1</a>\u001b[0m tools\u001b[39m.\u001b[39;49manimate_growth_2D(prev_states)\n\u001b[0;32m      <a href='vscode-notebook-cell:/c%3A/Users/jerem/OneDrive/Documents/GitHub/cellular-automata-grain-growth/master_notebook.ipynb#ch0000010?line=1'>2</a>\u001b[0m Image(url\u001b[39m=\u001b[39m\u001b[39m'\u001b[39m\u001b[39mtest_anim_2D.gif\u001b[39m\u001b[39m'\u001b[39m)\n\u001b[0;32m      <a href='vscode-notebook-cell:/c%3A/Users/jerem/OneDrive/Documents/GitHub/cellular-automata-grain-growth/master_notebook.ipynb#ch0000010?line=2'>3</a>\u001b[0m \u001b[39mlen\u001b[39m(prev_states)\n",
      "File \u001b[1;32mc:\\Users\\jerem\\OneDrive\\Documents\\GitHub\\cellular-automata-grain-growth\\tools.py:128\u001b[0m, in \u001b[0;36manimate_growth_2D\u001b[1;34m(prev_states)\u001b[0m\n\u001b[0;32m    <a href='file:///c%3A/Users/jerem/OneDrive/Documents/GitHub/cellular-automata-grain-growth/tools.py?line=123'>124</a>\u001b[0m     line_phase_frac\u001b[39m.\u001b[39mset_data(\u001b[39mlist\u001b[39m(\u001b[39mrange\u001b[39m(frame_num)), state_solid_fraction[:frame_num\u001b[39m-\u001b[39m\u001b[39m5\u001b[39m])\n\u001b[0;32m    <a href='file:///c%3A/Users/jerem/OneDrive/Documents/GitHub/cellular-automata-grain-growth/tools.py?line=126'>127</a>\u001b[0m ani \u001b[39m=\u001b[39m FuncAnimation(fig, draw_frame, interval\u001b[39m=\u001b[39m\u001b[39m1000\u001b[39m\u001b[39m/\u001b[39m\u001b[39m30\u001b[39m, frames\u001b[39m=\u001b[39mprev_states\u001b[39m.\u001b[39mshape[\u001b[39m0\u001b[39m])\n\u001b[1;32m--> <a href='file:///c%3A/Users/jerem/OneDrive/Documents/GitHub/cellular-automata-grain-growth/tools.py?line=127'>128</a>\u001b[0m ani\u001b[39m.\u001b[39;49msave(\u001b[39m'\u001b[39;49m\u001b[39mtest_anim_2D_1.gif\u001b[39;49m\u001b[39m'\u001b[39;49m)\n\u001b[0;32m    <a href='file:///c%3A/Users/jerem/OneDrive/Documents/GitHub/cellular-automata-grain-growth/tools.py?line=128'>129</a>\u001b[0m plt\u001b[39m.\u001b[39mclose()\n",
      "File \u001b[1;32mc:\\Users\\jerem\\AppData\\Local\\Programs\\Python\\Python310\\lib\\site-packages\\matplotlib\\animation.py:1073\u001b[0m, in \u001b[0;36mAnimation.save\u001b[1;34m(self, filename, writer, fps, dpi, codec, bitrate, extra_args, metadata, extra_anim, savefig_kwargs, progress_callback)\u001b[0m\n\u001b[0;32m   <a href='file:///c%3A/Users/jerem/AppData/Local/Programs/Python/Python310/lib/site-packages/matplotlib/animation.py?line=1066'>1067</a>\u001b[0m     _log\u001b[39m.\u001b[39minfo(\u001b[39m\"\u001b[39m\u001b[39mDisabling savefig.bbox = \u001b[39m\u001b[39m'\u001b[39m\u001b[39mtight\u001b[39m\u001b[39m'\u001b[39m\u001b[39m, as it may cause \u001b[39m\u001b[39m\"\u001b[39m\n\u001b[0;32m   <a href='file:///c%3A/Users/jerem/AppData/Local/Programs/Python/Python310/lib/site-packages/matplotlib/animation.py?line=1067'>1068</a>\u001b[0m               \u001b[39m\"\u001b[39m\u001b[39mframe size to vary, which is inappropriate for \u001b[39m\u001b[39m\"\u001b[39m\n\u001b[0;32m   <a href='file:///c%3A/Users/jerem/AppData/Local/Programs/Python/Python310/lib/site-packages/matplotlib/animation.py?line=1068'>1069</a>\u001b[0m               \u001b[39m\"\u001b[39m\u001b[39manimation.\u001b[39m\u001b[39m\"\u001b[39m)\n\u001b[0;32m   <a href='file:///c%3A/Users/jerem/AppData/Local/Programs/Python/Python310/lib/site-packages/matplotlib/animation.py?line=1069'>1070</a>\u001b[0m \u001b[39m# canvas._is_saving = True makes the draw_event animation-starting\u001b[39;00m\n\u001b[0;32m   <a href='file:///c%3A/Users/jerem/AppData/Local/Programs/Python/Python310/lib/site-packages/matplotlib/animation.py?line=1070'>1071</a>\u001b[0m \u001b[39m# callback a no-op; canvas.manager = None prevents resizing the GUI\u001b[39;00m\n\u001b[0;32m   <a href='file:///c%3A/Users/jerem/AppData/Local/Programs/Python/Python310/lib/site-packages/matplotlib/animation.py?line=1071'>1072</a>\u001b[0m \u001b[39m# widget (both are likewise done in savefig()).\u001b[39;00m\n\u001b[1;32m-> <a href='file:///c%3A/Users/jerem/AppData/Local/Programs/Python/Python310/lib/site-packages/matplotlib/animation.py?line=1072'>1073</a>\u001b[0m \u001b[39mwith\u001b[39;00m mpl\u001b[39m.\u001b[39mrc_context({\u001b[39m'\u001b[39m\u001b[39msavefig.bbox\u001b[39m\u001b[39m'\u001b[39m: \u001b[39mNone\u001b[39;00m}), \\\n\u001b[0;32m   <a href='file:///c%3A/Users/jerem/AppData/Local/Programs/Python/Python310/lib/site-packages/matplotlib/animation.py?line=1073'>1074</a>\u001b[0m      writer\u001b[39m.\u001b[39msaving(\u001b[39mself\u001b[39m\u001b[39m.\u001b[39m_fig, filename, dpi), \\\n\u001b[0;32m   <a href='file:///c%3A/Users/jerem/AppData/Local/Programs/Python/Python310/lib/site-packages/matplotlib/animation.py?line=1074'>1075</a>\u001b[0m      cbook\u001b[39m.\u001b[39m_setattr_cm(\u001b[39mself\u001b[39m\u001b[39m.\u001b[39m_fig\u001b[39m.\u001b[39mcanvas,\n\u001b[0;32m   <a href='file:///c%3A/Users/jerem/AppData/Local/Programs/Python/Python310/lib/site-packages/matplotlib/animation.py?line=1075'>1076</a>\u001b[0m                        _is_saving\u001b[39m=\u001b[39m\u001b[39mTrue\u001b[39;00m, manager\u001b[39m=\u001b[39m\u001b[39mNone\u001b[39;00m):\n\u001b[0;32m   <a href='file:///c%3A/Users/jerem/AppData/Local/Programs/Python/Python310/lib/site-packages/matplotlib/animation.py?line=1076'>1077</a>\u001b[0m     \u001b[39mfor\u001b[39;00m anim \u001b[39min\u001b[39;00m all_anim:\n\u001b[0;32m   <a href='file:///c%3A/Users/jerem/AppData/Local/Programs/Python/Python310/lib/site-packages/matplotlib/animation.py?line=1077'>1078</a>\u001b[0m         anim\u001b[39m.\u001b[39m_init_draw()  \u001b[39m# Clear the initial frame\u001b[39;00m\n",
      "File \u001b[1;32mc:\\Users\\jerem\\AppData\\Local\\Programs\\Python\\Python310\\lib\\contextlib.py:153\u001b[0m, in \u001b[0;36m_GeneratorContextManager.__exit__\u001b[1;34m(self, typ, value, traceback)\u001b[0m\n\u001b[0;32m    <a href='file:///c%3A/Users/jerem/AppData/Local/Programs/Python/Python310/lib/contextlib.py?line=150'>151</a>\u001b[0m     value \u001b[39m=\u001b[39m typ()\n\u001b[0;32m    <a href='file:///c%3A/Users/jerem/AppData/Local/Programs/Python/Python310/lib/contextlib.py?line=151'>152</a>\u001b[0m \u001b[39mtry\u001b[39;00m:\n\u001b[1;32m--> <a href='file:///c%3A/Users/jerem/AppData/Local/Programs/Python/Python310/lib/contextlib.py?line=152'>153</a>\u001b[0m     \u001b[39mself\u001b[39;49m\u001b[39m.\u001b[39;49mgen\u001b[39m.\u001b[39;49mthrow(typ, value, traceback)\n\u001b[0;32m    <a href='file:///c%3A/Users/jerem/AppData/Local/Programs/Python/Python310/lib/contextlib.py?line=153'>154</a>\u001b[0m \u001b[39mexcept\u001b[39;00m \u001b[39mStopIteration\u001b[39;00m \u001b[39mas\u001b[39;00m exc:\n\u001b[0;32m    <a href='file:///c%3A/Users/jerem/AppData/Local/Programs/Python/Python310/lib/contextlib.py?line=154'>155</a>\u001b[0m     \u001b[39m# Suppress StopIteration *unless* it's the same exception that\u001b[39;00m\n\u001b[0;32m    <a href='file:///c%3A/Users/jerem/AppData/Local/Programs/Python/Python310/lib/contextlib.py?line=155'>156</a>\u001b[0m     \u001b[39m# was passed to throw().  This prevents a StopIteration\u001b[39;00m\n\u001b[0;32m    <a href='file:///c%3A/Users/jerem/AppData/Local/Programs/Python/Python310/lib/contextlib.py?line=156'>157</a>\u001b[0m     \u001b[39m# raised inside the \"with\" statement from being suppressed.\u001b[39;00m\n\u001b[0;32m    <a href='file:///c%3A/Users/jerem/AppData/Local/Programs/Python/Python310/lib/contextlib.py?line=157'>158</a>\u001b[0m     \u001b[39mreturn\u001b[39;00m exc \u001b[39mis\u001b[39;00m \u001b[39mnot\u001b[39;00m value\n",
      "File \u001b[1;32mc:\\Users\\jerem\\AppData\\Local\\Programs\\Python\\Python310\\lib\\site-packages\\matplotlib\\animation.py:238\u001b[0m, in \u001b[0;36mAbstractMovieWriter.saving\u001b[1;34m(self, fig, outfile, dpi, *args, **kwargs)\u001b[0m\n\u001b[0;32m    <a href='file:///c%3A/Users/jerem/AppData/Local/Programs/Python/Python310/lib/site-packages/matplotlib/animation.py?line=235'>236</a>\u001b[0m     \u001b[39myield\u001b[39;00m \u001b[39mself\u001b[39m\n\u001b[0;32m    <a href='file:///c%3A/Users/jerem/AppData/Local/Programs/Python/Python310/lib/site-packages/matplotlib/animation.py?line=236'>237</a>\u001b[0m \u001b[39mfinally\u001b[39;00m:\n\u001b[1;32m--> <a href='file:///c%3A/Users/jerem/AppData/Local/Programs/Python/Python310/lib/site-packages/matplotlib/animation.py?line=237'>238</a>\u001b[0m     \u001b[39mself\u001b[39;49m\u001b[39m.\u001b[39;49mfinish()\n",
      "File \u001b[1;32mc:\\Users\\jerem\\AppData\\Local\\Programs\\Python\\Python310\\lib\\site-packages\\matplotlib\\animation.py:514\u001b[0m, in \u001b[0;36mPillowWriter.finish\u001b[1;34m(self)\u001b[0m\n\u001b[0;32m    <a href='file:///c%3A/Users/jerem/AppData/Local/Programs/Python/Python310/lib/site-packages/matplotlib/animation.py?line=512'>513</a>\u001b[0m \u001b[39mdef\u001b[39;00m \u001b[39mfinish\u001b[39m(\u001b[39mself\u001b[39m):\n\u001b[1;32m--> <a href='file:///c%3A/Users/jerem/AppData/Local/Programs/Python/Python310/lib/site-packages/matplotlib/animation.py?line=513'>514</a>\u001b[0m     \u001b[39mself\u001b[39;49m\u001b[39m.\u001b[39;49m_frames[\u001b[39m0\u001b[39;49m]\u001b[39m.\u001b[39msave(\n\u001b[0;32m    <a href='file:///c%3A/Users/jerem/AppData/Local/Programs/Python/Python310/lib/site-packages/matplotlib/animation.py?line=514'>515</a>\u001b[0m         \u001b[39mself\u001b[39m\u001b[39m.\u001b[39moutfile, save_all\u001b[39m=\u001b[39m\u001b[39mTrue\u001b[39;00m, append_images\u001b[39m=\u001b[39m\u001b[39mself\u001b[39m\u001b[39m.\u001b[39m_frames[\u001b[39m1\u001b[39m:],\n\u001b[0;32m    <a href='file:///c%3A/Users/jerem/AppData/Local/Programs/Python/Python310/lib/site-packages/matplotlib/animation.py?line=515'>516</a>\u001b[0m         duration\u001b[39m=\u001b[39m\u001b[39mint\u001b[39m(\u001b[39m1000\u001b[39m \u001b[39m/\u001b[39m \u001b[39mself\u001b[39m\u001b[39m.\u001b[39mfps), loop\u001b[39m=\u001b[39m\u001b[39m0\u001b[39m)\n",
      "\u001b[1;31mIndexError\u001b[0m: list index out of range"
     ]
    },
    {
     "data": {
      "image/png": "[encoded data removed]",
      "text/plain": [
       "<Figure size 777.6x777.6 with 2 Axes>"
      ]
     },
     "metadata": {
      "needs_background": "light"
     },
     "output_type": "display_data"
    }
   ],
   "source": [
    "tools.animate_growth_2D(prev_states)\n",
    "Image(url='test_anim_2D.gif')\n",
    "len(prev_states)"
   ]
  },
  {
   "cell_type": "code",
   "execution_count": null,
   "metadata": {},
   "outputs": [],
   "source": []
  }
 ],
 "metadata": {
  "interpreter": {
   "hash": "23e0aedb6d47e040503db7fcf09a0dff3cea72eb7d5d4c2596a602b1504b448c"
  },
  "kernelspec": {
   "display_name": "Python 3.10.2 64-bit",
   "language": "python",
   "name": "python3"
  },
  "language_info": {
   "codemirror_mode": {
    "name": "ipython",
    "version": 3
   },
   "file_extension": ".py",
   "mimetype": "text/x-python",
   "name": "python",
   "nbconvert_exporter": "python",
   "pygments_lexer": "ipython3",
   "version": "3.10.2"
  },
  "orig_nbformat": 4
 },
 "nbformat": 4,
 "nbformat_minor": 2
}
