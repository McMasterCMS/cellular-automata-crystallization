{
 "cells": [
  {
   "cell_type": "code",
   "execution_count": null,
   "source": [
    "# import some helpful tools\r\n",
    "import tools\r\n",
    "import random"
   ],
   "outputs": [],
   "metadata": {}
  },
  {
   "cell_type": "code",
   "execution_count": null,
   "source": [
    "# Conways game of life?"
   ],
   "outputs": [],
   "metadata": {}
  },
  {
   "cell_type": "code",
   "execution_count": null,
   "source": [
    "# 1D Desription of microstructure evolution\r\n",
    "# Show video?\r\n",
    "# Discretize space into a series of cell\r\n",
    "# Assign a state to each cell\r\n",
    "# At every time step local a neeighbourhood is defined to each cell\r\n",
    "# A state change rule is applied as a function of the neightbouring cells\r\n",
    "# Simulation proceeds in a series of discrete time steps and computing the new states"
   ],
   "outputs": [],
   "metadata": {}
  },
  {
   "cell_type": "code",
   "execution_count": null,
   "source": [
    "liq = 0\r\n",
    "solid = 1"
   ],
   "outputs": [],
   "metadata": {}
  },
  {
   "cell_type": "code",
   "execution_count": null,
   "source": [
    "size = 100\r\n",
    "n_steps = 100\r\n",
    "state_history = [] * n_steps\r\n",
    "state = [liq] * size\r\n",
    "temp_state = [liq] * size"
   ],
   "outputs": [],
   "metadata": {}
  },
  {
   "cell_type": "code",
   "execution_count": null,
   "source": [
    "tools.show_state()"
   ],
   "outputs": [],
   "metadata": {}
  },
  {
   "cell_type": "code",
   "execution_count": null,
   "source": [
    "state[50] = solid"
   ],
   "outputs": [],
   "metadata": {}
  }
 ],
 "metadata": {
  "orig_nbformat": 4,
  "language_info": {
   "name": "python",
   "version": "3.7.4",
   "mimetype": "text/x-python",
   "codemirror_mode": {
    "name": "ipython",
    "version": 3
   },
   "pygments_lexer": "ipython3",
   "nbconvert_exporter": "python",
   "file_extension": ".py"
  },
  "kernelspec": {
   "name": "python3",
   "display_name": "Python 3.7.4 64-bit"
  },
  "interpreter": {
   "hash": "7ddd3495a700a0c68a475eec98ab5c0d8e4fb234bfd76fa61a8e3376ef4ee445"
  }
 },
 "nbformat": 4,
 "nbformat_minor": 2
}