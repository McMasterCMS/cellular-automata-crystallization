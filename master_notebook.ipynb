{
 "cells": [
  {
   "cell_type": "code",
   "execution_count": 126,
   "metadata": {},
   "outputs": [],
   "source": [
    "import copy\n",
    "import numpy as np\n",
    "from random import randrange, seed\n",
    "from IPython.display import HTML\n",
    "import matplotlib.pyplot as plt\n",
    "from matplotlib import ticker\n",
    "from matplotlib.animation import FuncAnimation\n",
    "\n",
    "plt.style.use(['dark_background'])\n",
    "plt.rc('animation', html='html5')\n",
    "\n",
    "\n",
    "anim_size = (15, 9) # dimensions of animation\n",
    "fps = 0.1\n",
    "\n",
    "\n",
    "def set_nucleation_sites(init_state, number_of_sites):\n",
    "    \"\"\"Choose a number of random cells to nuleate from and return the\n",
    "    nucleated state\"\"\"\n",
    "\n",
    "    seed(1)\n",
    "    size_y, size_x = init_state.shape\n",
    "    for i in range(number_of_sites):\n",
    "        # Don't allow sites to be on edges to reduce the number of\n",
    "        # edge case if-else statements in growth function\n",
    "        rand_x = randrange(1, size_x)\n",
    "        rand_y = randrange(1, size_y)\n",
    "        init_state[rand_y, rand_x] = sol\n",
    "\n",
    "    return init_state\n",
    "\n",
    "\n",
    "def display_state(state):\n",
    "    \"\"\"Show resulting image plot\"\"\"\n",
    "    \n",
    "    state = np.array(state)\n",
    "    plt.figure(figsize=(20,20))\n",
    "    plt.imshow(state[np.newaxis])\n",
    "    format_imshow(plt.gca())\n",
    "\n",
    "\n",
    "def format_imshow(ax):\n",
    "    \"\"\"Removes tickmarks from image, preserving black outline and\n",
    "    changes colour sheme to blue\"\"\"\n",
    "\n",
    "    plt.set_cmap('Blues_r')\n",
    "    plt.xticks([])\n",
    "    plt.xticks([], minor=True)\n",
    "    plt.yticks([])\n",
    "    plt.yticks([], minor=True)\n",
    "\n",
    "\n",
    "def format_line_plot(ax, n_frames):\n",
    "    \"\"\"Formats % soldification line plot\"\"\"\n",
    "\n",
    "    ax.set_xlabel('Timestep', size=20)\n",
    "    ax.set_ylabel('% Solid', size=20)\n",
    "    ax.set_ylim([0, 1.05])\n",
    "    ax.set_xlim([0, n_frames-1])\n",
    "    ax.yaxis.set_label_position(\"right\")\n",
    "    ax.yaxis.tick_right()\n",
    "    formatter = ticker.PercentFormatter(xmax=1)\n",
    "    ax.yaxis.set_major_formatter(formatter)\n",
    "\n",
    "\n",
    "def animate_growth(prev_states, col_grad=False):\n",
    "    \"\"\"Animate simulation by showing three different graphics:\n",
    "    the state of the simulation at an instant (i.e. 1D row of cells),\n",
    "    the state of the simulation with time as the vertical axis (2D image\n",
    "    of cells), and extent of solification at a given timestep (a line\n",
    "    of amount solidified vs. time). A gif of the animation is saved as\n",
    "    simulation_anim_1D.gif.\n",
    "\n",
    "    Parameters\n",
    "    ----------\n",
    "    prev_states : list\n",
    "        Nested list of shape (m, n) where m is the number of simulation\n",
    "        timesteps/frame and n is the number of simulation cells\n",
    "    col_grad : bool, optional\n",
    "        Use a color gradient when making animation, by default False\n",
    "    \"\"\"\n",
    "\n",
    "    prev_states = np.array(prev_states)\n",
    "    fig = plt.figure(figsize=anim_size)\n",
    "\n",
    "    divs=11 # number of vertical partitions for graphics\n",
    "    n_frames, _ = prev_states.shape # Number of animation frames\n",
    "    if col_grad: vmax=n_frames//10+1\n",
    "    else: vmax=None\n",
    "\n",
    "    # Simulation at an instant - initializing animation\n",
    "    ax_sim_1D = plt.subplot2grid((divs,2),(0, 0))\n",
    "    format_imshow(ax_sim_1D)\n",
    "    sim_1D_frame_init = prev_states[0][np.newaxis]\n",
    "    sim_1D_img = ax_sim_1D.imshow(sim_1D_frame_init,\n",
    "                                  aspect='equal',\n",
    "                                  animated=True,\n",
    "                                  vmin=0,\n",
    "                                  vmax=vmax)\n",
    "\n",
    "    # Overall simulation as a 2D plot of states (horizontal) and time\n",
    "    # (vertical)\n",
    "\n",
    "    # prev_states is a 2D image where every row is the next timestep\n",
    "    # in the simulation, i.e. a static image showing how the simulation\n",
    "    # progressed. To animate, a semi-empty image is created for each\n",
    "    # frame in the animation. Rows are progressivley copied from\n",
    "    # prev_state to make a collection of frames that 'reveal' the\n",
    "    # simulation as the animation runs\n",
    "    sim_2D_frames = []\n",
    "    sim_2D_frame_empty = np.zeros_like(prev_states)\n",
    "    for i in range(n_frames):\n",
    "        sim_2D_frame_empty[i] = prev_states[i]\n",
    "        sim_2D_frames.append(copy.deepcopy(sim_2D_frame_empty))\n",
    "\n",
    "    ax_sim_2D = plt.subplot2grid((divs,2),(1, 0), rowspan=divs-1)\n",
    "    format_imshow(ax_sim_2D)\n",
    "    sim_2D_frame_init = sim_2D_frames[0]\n",
    "    # sim_2D_img = ax_sim_2D.imshow(sim_2D_frame_init, aspect='auto')\n",
    "    sim_2D_img = ax_sim_2D.imshow(sim_2D_frame_init, animated=True,\n",
    "                                  vmin=0, vmax=vmax)\n",
    "\n",
    "    # Create line plot of the amount solidified\n",
    "    size = len(prev_states[0])\n",
    "    state_sol_count = np.sum(np.array(prev_states), axis=1)\n",
    "    state_sol_fraction = state_sol_count / size\n",
    "\n",
    "    ax_sol_frac = plt.subplot2grid((divs,2),(0, 1), rowspan=divs)\n",
    "    sol_frac_line, = ax_sol_frac.plot([],[])\n",
    "    format_line_plot(ax_sol_frac, n_frames)\n",
    "\n",
    "    fig.tight_layout()\n",
    "\n",
    "    def draw_frame(frame_num, col_grad=False):\n",
    "        \"\"\"Guides how animation is drawn based on the frame number.\n",
    "        col_grad indicates whether a color gradient is used to the\n",
    "        animation of the solidification\"\"\"\n",
    "\n",
    "        if col_grad:\n",
    "            sim_1D_img.set_array(np.sum(prev_states[:frame_num][np.newaxis], axis=1))\n",
    "            sim_2D_img.set_array(np.sum(np.array(sim_2D_frames)[:frame_num], axis=0))\n",
    "        else:\n",
    "            sim_1D_img.set_array(prev_states[frame_num][np.newaxis])\n",
    "            sim_2D_img.set_array(sim_2D_frames[frame_num])\n",
    "\n",
    "        sol_frac_line.set_data(list(range(frame_num+1)), \n",
    "                               state_sol_fraction[:frame_num+1])\n",
    "\n",
    "    # Create animation\n",
    "    ani = FuncAnimation(fig, draw_frame, frames=n_frames, interval=n_frames/fps)\n",
    "    # plt.show()\n",
    "    # ani.save('simulation_anim_1D.gif')\n",
    "    plt.close()\n",
    "\n",
    "    return HTML(ani.to_html5_video())\n",
    "\n",
    "\n",
    "def animate_growth_2D(prev_states, col_grad=False):\n",
    "    \"\"\"Animate simulation by showing 2 different graphics: 1. the state\n",
    "    of the simulation at an instant (2D image) where the lighter the\n",
    "    shade the blue the 'older' the point of soldification and 2.\n",
    "    the extent of solification at a given timestep (a line of amount\n",
    "    solidified vs. time). A gif of the animation is saved as\n",
    "    simulation_anim_2D.gif\n",
    "\n",
    "    Parameters\n",
    "    ----------\n",
    "    prev_states : list\n",
    "        List m arrays of shape (n, o)\n",
    "    col_grad : bool, optional\n",
    "        Use a color gradient when making animation, by default False\n",
    "    \"\"\"\n",
    "\n",
    "    prev_states = np.array(prev_states)\n",
    "    fig = plt.figure(figsize=anim_size)\n",
    "\n",
    "    n_frames, _, _ = prev_states.shape\n",
    "    if col_grad: vmax=n_frames//10+1\n",
    "    else: vmax=None \n",
    "\n",
    "    # Simulation at in instant - initializing animation\n",
    "    ax_sim_2D = plt.subplot2grid((1,2),(0, 0))\n",
    "    format_imshow(ax_sim_2D)\n",
    "    sim_2D_img = ax_sim_2D.imshow(prev_states[0], animated=True,\n",
    "                                  vmin=0, vmax=vmax)\n",
    "\n",
    "    # Create line plot of amount solidified\n",
    "    size = prev_states[0].size\n",
    "    state_solid_count = np.array([np.sum(i) for i in prev_states])\n",
    "    state_solid_fraction = state_solid_count / size\n",
    "\n",
    "    ax_sol_frac = plt.subplot2grid((1,2),(0, 1))\n",
    "    sol_frac_line, = ax_sol_frac.plot([],[])\n",
    "    format_line_plot(ax_sol_frac, n_frames)\n",
    "\n",
    "    fig.tight_layout()\n",
    "\n",
    "    def draw_frame(frame_num, col_grad=False):\n",
    "        \"\"\"Guides how animation is drawn based on the frame number.\n",
    "        col_grad indicates whether a color gradient is used to the\n",
    "        animation of the solidification\"\"\"\n",
    "\n",
    "        if col_grad:\n",
    "            sim_2D_img.set_array(np.sum(prev_states[:frame_num], axis=0))\n",
    "        else:\n",
    "            sim_2D_img.set_array(prev_states[frame_num])\n",
    "\n",
    "        sol_frac_line.set_data(list(range(frame_num)),\n",
    "                               state_solid_fraction[:frame_num])\n",
    "\n",
    "    # Create animation\n",
    "    ani = FuncAnimation(fig, draw_frame, interval=n_frames/fps,\n",
    "                        frames=prev_states.shape[0])\n",
    "    # ani.save('simulation_anim_2D.gif')\n",
    "    plt.close()\n",
    "    return HTML(ani.to_html5_video())"
   ]
  },
  {
   "cell_type": "code",
   "execution_count": 127,
   "metadata": {},
   "outputs": [],
   "source": [
    "liq = 0\n",
    "sol = 1"
   ]
  },
  {
   "cell_type": "code",
   "execution_count": 136,
   "metadata": {},
   "outputs": [],
   "source": [
    "size = 10\n",
    "state = [liq] * size\n",
    "state[1] = sol"
   ]
  },
  {
   "cell_type": "code",
   "execution_count": 137,
   "metadata": {},
   "outputs": [
    {
     "data": {
      "text/plain": [
       "[0, 1, 0, 0, 0, 0, 0, 0, 0, 0]"
      ]
     },
     "execution_count": 137,
     "metadata": {},
     "output_type": "execute_result"
    }
   ],
   "source": [
    "state"
   ]
  },
  {
   "cell_type": "code",
   "execution_count": 138,
   "metadata": {},
   "outputs": [
    {
     "data": {
      "image/png": "[encoded data removed]",
      "text/plain": [
       "<Figure size 1440x1440 with 1 Axes>"
      ]
     },
     "metadata": {},
     "output_type": "display_data"
    }
   ],
   "source": [
    "display_state(state)"
   ]
  },
  {
   "cell_type": "code",
   "execution_count": 139,
   "metadata": {},
   "outputs": [],
   "source": [
    "prev_states = []\n",
    "temp_state = copy.deepcopy(state)\n",
    "prev_states.append(state)\n",
    "while sum(temp_state) < len(state):\n",
    "    for x in range(size):\n",
    "        if x == 0:\n",
    "            if state[x+1] == sol:\n",
    "                temp_state[x] = sol\n",
    "        elif x == len(state)-1:\n",
    "            if state[x-1] == sol:\n",
    "                temp_state[x] = sol\n",
    "        elif state[x-1]==1 or state[x+1]==1:\n",
    "            temp_state[x] = sol\n",
    "    state = copy.deepcopy(temp_state)\n",
    "    prev_states.append(state)"
   ]
  },
  {
   "cell_type": "code",
   "execution_count": 140,
   "metadata": {},
   "outputs": [
    {
     "name": "stderr",
     "output_type": "stream",
     "text": [
      "MovieWriter ffmpeg unavailable; using Pillow instead.\n"
     ]
    },
    {
     "data": {
      "text/html": [
       "<img src=\"simulation_anim_1D.gif\"/>"
      ],
      "text/plain": [
       "<IPython.core.display.Image object>"
      ]
     },
     "execution_count": 140,
     "metadata": {},
     "output_type": "execute_result"
    }
   ],
   "source": [
    "animate_growth(prev_states)"
   ]
  },
  {
   "cell_type": "code",
   "execution_count": 133,
   "metadata": {},
   "outputs": [],
   "source": [
    "def simulate_growth_2D(size):\n",
    "\n",
    "    state = np.zeros((size, size))\n",
    "    state = set_nucleation_sites(state, 10)\n",
    "    temp_state = copy.deepcopy(state)\n",
    "    prev_states = []\n",
    "    while np.sum(state) < size*size:\n",
    "        for x in range(size):\n",
    "            for y in range(size):\n",
    "                if state[y,x] == sol:\n",
    "                        temp_state[y-1:y+2, x-1:x+2] = sol\n",
    "\n",
    "        state = copy.deepcopy(temp_state)\n",
    "        prev_states.append(copy.deepcopy(temp_state))\n",
    "    return prev_states"
   ]
  },
  {
   "cell_type": "code",
   "execution_count": 134,
   "metadata": {},
   "outputs": [],
   "source": [
    "prev_states = simulate_growth_2D(100)"
   ]
  },
  {
   "cell_type": "code",
   "execution_count": 135,
   "metadata": {},
   "outputs": [
    {
     "name": "stderr",
     "output_type": "stream",
     "text": [
      "MovieWriter ffmpeg unavailable; using Pillow instead.\n"
     ]
    },
    {
     "data": {
      "text/html": [
       "<img src=\"simulation_anim_2D.gif\"/>"
      ],
      "text/plain": [
       "<IPython.core.display.Image object>"
      ]
     },
     "execution_count": 135,
     "metadata": {},
     "output_type": "execute_result"
    }
   ],
   "source": [
    "animate_growth_2D(prev_states)"
   ]
  }
 ],
 "metadata": {
  "interpreter": {
   "hash": "23e0aedb6d47e040503db7fcf09a0dff3cea72eb7d5d4c2596a602b1504b448c"
  },
  "kernelspec": {
   "display_name": "Python 3.10.2 64-bit",
   "language": "python",
   "name": "python3"
  },
  "language_info": {
   "codemirror_mode": {
    "name": "ipython",
    "version": 3
   },
   "file_extension": ".py",
   "mimetype": "text/x-python",
   "name": "python",
   "nbconvert_exporter": "python",
   "pygments_lexer": "ipython3",
   "version": "3.10.2"
  },
  "orig_nbformat": 4
 },
 "nbformat": 4,
 "nbformat_minor": 2
}
